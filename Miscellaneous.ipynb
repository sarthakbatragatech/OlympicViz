{
 "cells": [
  {
   "cell_type": "code",
   "execution_count": null,
   "metadata": {},
   "outputs": [],
   "source": [
    "g = sns.relplot(x=\"Year\", y=\"Age\", kind=\"line\", hue='Season', data=df)"
   ]
  },
  {
   "cell_type": "code",
   "execution_count": null,
   "metadata": {},
   "outputs": [],
   "source": [
    "alt.Chart(summer_df).mark_area().encode(\n",
    "    alt.X('Year:O'),\n",
    "    alt.Y('count()'),\n",
    "    alt.Color('Sex:N')\n",
    ")"
   ]
  },
  {
   "cell_type": "code",
   "execution_count": null,
   "metadata": {},
   "outputs": [],
   "source": [
    "alt.Chart(winter_df).mark_area().encode(\n",
    "    alt.X('Year:O'),\n",
    "    alt.Y('count()'),\n",
    "    alt.Color('Sex:N')\n",
    ")"
   ]
  },
  {
   "cell_type": "code",
   "execution_count": null,
   "metadata": {},
   "outputs": [],
   "source": [
    "alt.Chart(summer_df).mark_bar().encode(\n",
    "    x='Sex:N',\n",
    "    y='count(Sex):Q',\n",
    "    color='Sex:N',\n",
    "    column='Year:N'\n",
    ")"
   ]
  },
  {
   "cell_type": "code",
   "execution_count": null,
   "metadata": {},
   "outputs": [],
   "source": [
    "alt.Chart(winter_df).mark_bar().encode(\n",
    "    x='Sex:N',\n",
    "    y='count(Sex):Q',\n",
    "    color='Sex:N',\n",
    "    column='Year:N'\n",
    ")"
   ]
  },
  {
   "cell_type": "code",
   "execution_count": null,
   "metadata": {},
   "outputs": [],
   "source": [
    "chart = alt.Chart(summer_df).mark_line().encode(\n",
    "    x='Year:O',\n",
    "    y='count(Sex):Q',\n",
    ")"
   ]
  },
  {
   "cell_type": "code",
   "execution_count": null,
   "metadata": {},
   "outputs": [],
   "source": [
    "india_summer_df = summer_df[summer_df['NOC']=='IND']\n",
    "india_summer_df.shape"
   ]
  },
  {
   "cell_type": "code",
   "execution_count": null,
   "metadata": {},
   "outputs": [],
   "source": [
    "india_winter_df = winter_df[winter_df['NOC']=='IND']\n",
    "india_winter_df.shape"
   ]
  },
  {
   "cell_type": "code",
   "execution_count": null,
   "metadata": {},
   "outputs": [],
   "source": [
    "chart = alt.Chart(india_winter_df).mark_point().encode(\n",
    "    alt.Y('Name'),\n",
    "    alt.X('Year:O'),\n",
    "    color='Medal:N'\n",
    ")"
   ]
  },
  {
   "cell_type": "code",
   "execution_count": null,
   "metadata": {},
   "outputs": [],
   "source": [
    "india_summer_medal = india_summer_df[india_summer_df['Medal'].notnull()]"
   ]
  },
  {
   "cell_type": "code",
   "execution_count": null,
   "metadata": {},
   "outputs": [],
   "source": [
    "alt.Chart(india_summer_medal).mark_point().encode(\n",
    "    alt.Y('count()'),\n",
    "    alt.X('Year:O'),\n",
    "    color='Medal:N'\n",
    ")"
   ]
  },
  {
   "cell_type": "code",
   "execution_count": null,
   "metadata": {},
   "outputs": [],
   "source": [
    "alt.Chart(india_summer_medal).mark_rect().encode(\n",
    "    alt.Y('Sport:N'),\n",
    "    alt.X('Year:O'),\n",
    "    color='Medal:N'\n",
    ")"
   ]
  },
  {
   "cell_type": "code",
   "execution_count": null,
   "metadata": {},
   "outputs": [],
   "source": [
    "alt.Chart(india_summer_df).mark_line().encode(\n",
    "    x='Year:O',\n",
    "    y='count(Sex):Q',\n",
    "    color='Sex:N'\n",
    ")"
   ]
  },
  {
   "cell_type": "code",
   "execution_count": null,
   "metadata": {},
   "outputs": [],
   "source": [
    "summer_medal = summer_df[summer_df['Medal'].notnull()]"
   ]
  },
  {
   "cell_type": "code",
   "execution_count": null,
   "metadata": {},
   "outputs": [],
   "source": [
    "basketball_medal = summer_medal[summer_medal['Sport'] == 'Basketball']"
   ]
  },
  {
   "cell_type": "code",
   "execution_count": null,
   "metadata": {},
   "outputs": [],
   "source": [
    "alt.Chart(basketball_medal).mark_rect().encode(\n",
    "    alt.Y('region:N'),\n",
    "    alt.X('Year:O'),\n",
    "    color=('Medal:N')\n",
    ")"
   ]
  }
 ],
 "metadata": {
  "kernelspec": {
   "display_name": "Python 3",
   "language": "python",
   "name": "python3"
  },
  "language_info": {
   "codemirror_mode": {
    "name": "ipython",
    "version": 3
   },
   "file_extension": ".py",
   "mimetype": "text/x-python",
   "name": "python",
   "nbconvert_exporter": "python",
   "pygments_lexer": "ipython3",
   "version": "3.7.0"
  }
 },
 "nbformat": 4,
 "nbformat_minor": 2
}
